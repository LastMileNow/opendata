{
 "cells": [
  {
   "cell_type": "code",
   "execution_count": 1,
   "id": "virgin-print",
   "metadata": {},
   "outputs": [],
   "source": [
    "import matplotlib.pyplot as plt\n",
    "import numpy as np\n",
    "import pandas as pd\n",
    "pd.set_option('display.max_colwidth', 200)\n",
    "\n",
    "def toFloat(df,cols):\n",
    "    for col in cols:\n",
    "        df[col] = pd.to_numeric(df[col],errors='coerce')\n",
    "\n",
    "def toInt(df,cols):\n",
    "    for col in cols:\n",
    "        df[col] = pd.to_numeric(df[col],errors='coerce')\n",
    "        df[col] = df[col].fillna(0).astype(np.int64)"
   ]
  },
  {
   "cell_type": "code",
   "execution_count": 16,
   "id": "ffebd6e5-bc2e-48c2-8ea4-db31ffb0c887",
   "metadata": {},
   "outputs": [
    {
     "data": {
      "text/plain": [
       "(224817, 121)"
      ]
     },
     "execution_count": 16,
     "metadata": {},
     "output_type": "execute_result"
    }
   ],
   "source": [
    "major = pd.read_csv(\"Most-Recent-Cohorts-Field-of-Study.csv\")\n",
    "major.shape"
   ]
  },
  {
   "cell_type": "code",
   "execution_count": 18,
   "id": "7afabb67-e708-466d-9593-6aaa20f33fcc",
   "metadata": {},
   "outputs": [],
   "source": [
    "major.replace('PrivacySuppressed', np.NaN, inplace=True)"
   ]
  },
  {
   "cell_type": "code",
   "execution_count": 19,
   "id": "0758ae90-8c23-43cb-8830-596b3bcb4b51",
   "metadata": {},
   "outputs": [
    {
     "data": {
      "text/plain": [
       "(47847, 117)"
      ]
     },
     "execution_count": 19,
     "metadata": {},
     "output_type": "execute_result"
    }
   ],
   "source": [
    "major.dropna(axis=0, thresh=30, inplace=True) # drop rows (axis=0) if less than 30 attributes have values (non-null/NaN)\n",
    "major.drop(columns=['OPEID6', 'INSTNM','CONTROL','MAIN'], inplace=True)\n",
    "major.shape"
   ]
  },
  {
   "cell_type": "code",
   "execution_count": 20,
   "id": "7b2b4b28-8a5b-4bf2-a034-5570f25021d1",
   "metadata": {},
   "outputs": [],
   "source": [
    "datadict_m = pd.read_csv(\"CollegeScorecardDataDictionary_Major.csv\")\n",
    "datadict_m.replace({'cip_4_digit':'cip'},regex=True,inplace=True)\n",
    "code2name = dict(zip(datadict_m['VARIABLE NAME'], datadict_m['developer-friendly name']))\n",
    "major.rename(columns = code2name, inplace = True)"
   ]
  },
  {
   "cell_type": "code",
   "execution_count": 21,
   "id": "a2b89a91-9d19-45a8-8ad5-4c052bca4b99",
   "metadata": {},
   "outputs": [],
   "source": [
    "toInt(major,[v for v in list(major.columns) if \"count\" in v])"
   ]
  },
  {
   "cell_type": "code",
   "execution_count": 22,
   "id": "08278848-db76-455f-a18a-655e474fc1d8",
   "metadata": {},
   "outputs": [],
   "source": [
    "major.to_csv(\"reportcard_major.csv\", index=False)"
   ]
  },
  {
   "cell_type": "markdown",
   "id": "cee28c32-326b-4d85-8371-4a8aba03c5e5",
   "metadata": {
    "tags": []
   },
   "source": [
    "## Reportcard.csv"
   ]
  },
  {
   "cell_type": "code",
   "execution_count": null,
   "id": "b757d7d8-7313-49d8-a8d4-c647c3a0a699",
   "metadata": {},
   "outputs": [],
   "source": [
    "df = pd.read_csv(\"Most-Recent-Cohorts-Institution.csv\")\n",
    "df.shape"
   ]
  },
  {
   "cell_type": "code",
   "execution_count": 28,
   "id": "a9bc6d01-9dc6-4831-8992-480604cb65ae",
   "metadata": {},
   "outputs": [
    {
     "data": {
      "text/plain": [
       "(6261, 2993)"
      ]
     },
     "execution_count": 28,
     "metadata": {},
     "output_type": "execute_result"
    }
   ],
   "source": [
    "df[\"prc_tech\"] = (df['PCIP11'] + df['PCIP14'] + df['PCIP15'] + df['PCIP27'] + df['PCIP40'] + df['PCIP41'])\n",
    "df[\"prc_business\"] = df['PCIP52']\n",
    "df[\"prc_biology\"] = df['PCIP26']\n",
    "df[\"prc_stem\"] = df[\"prc_tech\"] + df[\"prc_business\"] + df[\"prc_biology\"]\n",
    "\n",
    "df.dropna(axis=0, thresh=1500, inplace=True) # drop rows (axis=0) if less than 1500 attributes have values (non-null/NaN)\n",
    "df.shape"
   ]
  },
  {
   "cell_type": "code",
   "execution_count": 29,
   "id": "e75593c3-a748-4f0a-81ff-4912e35551d5",
   "metadata": {},
   "outputs": [
    {
     "data": {
      "text/plain": [
       "(6261, 2553)"
      ]
     },
     "execution_count": 29,
     "metadata": {},
     "output_type": "execute_result"
    }
   ],
   "source": [
    "df.shape\n",
    "df.replace('PrivacySuppressed', np.NaN, inplace=True)\n",
    "df.dropna(axis=1, thresh=500, inplace=True) # drop columns (axis=1) if less than 500 entries have values (non-null/NaN)\n",
    "df.shape"
   ]
  },
  {
   "cell_type": "code",
   "execution_count": 30,
   "id": "f8a3c86d-1af4-4a66-934c-5355fa030fd2",
   "metadata": {},
   "outputs": [
    {
     "name": "stdout",
     "output_type": "stream",
     "text": [
      "(3027, 2553)\n"
     ]
    }
   ],
   "source": [
    "df = df[(df['CCBASIC'] > 0) & (df['CCSIZSET'] > 2)].copy() # Carnegie Classification for 2 & 4 year college only\n",
    "print(df.shape)"
   ]
  },
  {
   "cell_type": "code",
   "execution_count": 31,
   "id": "involved-convention",
   "metadata": {},
   "outputs": [],
   "source": [
    "toInt(df,['UGDS','FAMINC','MD_FAMINC','MD_EARN_WNE_P10','PCT25_EARN_WNE_P6','PCT25_EARN_WNE_P10','RPY_3YR_RT_SUPP',\n",
    "    'PELL_RPY_3YR_RT_SUPP','MN_EARN_WNE_P10', 'PCT90_EARN_WNE_P6','PCT90_EARN_WNE_P10'])"
   ]
  },
  {
   "cell_type": "code",
   "execution_count": 32,
   "id": "mexican-platform",
   "metadata": {},
   "outputs": [],
   "source": [
    "toFloat(df,['FAMINC','MD_FAMINC','MD_EARN_WNE_P10','PCT25_EARN_WNE_P6','PCT25_EARN_WNE_P10','RPY_3YR_RT_SUPP','PELL_RPY_3YR_RT_SUPP',\n",
    "            'PCT_BLACK','PCT_WHITE','PCT_HISPANIC','PCT_ASIAN','MN_EARN_WNE_P10','PCT90_EARN_WNE_P6','PCT90_EARN_WNE_P10'])"
   ]
  },
  {
   "cell_type": "code",
   "execution_count": 33,
   "id": "0fa8dc52-5771-4b78-8fe7-4698d66a3b62",
   "metadata": {},
   "outputs": [],
   "source": [
    "datadict = pd.read_csv(\"CollegeScorecardDataDictionary.csv\")\n",
    "datadict.replace({'by_income_level':'income', '.working_not_enrolled':'','outcome_percentage':'perc'},regex=True,inplace=True)\n",
    "code2name = dict(zip(datadict['VARIABLE NAME'], datadict['developer-friendly name']))\n",
    "df.rename(columns = code2name, inplace = True)\n",
    "df.rename(columns = {'location.lon':'lon', 'location.lat':'lat'}, inplace = True)\n",
    "regionMap = {0:\"U.S. Service Schools\",1:\"New Englend\",2:\"Mid East\",3:\"Great Lakes\",4:\"Plains\",5:\"Southeast\",6:\"Southwest\",7:\"Rocky Mountains\",8:\"Far West\",9:\"Outlying\"}\n",
    "df['region_id'] = df['region_id'].map(regionMap)\n",
    "localeMap = {11:'Large City',12:'Midsize City',13:'Small City',21:'Large Suburb',22:'Midsize Suburb',23:'Small Suburb',\n",
    "        31:'Fringe Town',32:'Distant Town',33:'Remote Town',41:'Fringe Rural',42:'Distant Rural',43:'Remote Rural'}\n",
    "df['locale'] = df['locale'].map(localeMap)\n",
    "df['net_price.income.110001-plus']=df[['net_price.public.income.110001-plus','net_price.private.income.110001-plus']].max(axis=1)\n"
   ]
  },
  {
   "cell_type": "code",
   "execution_count": 37,
   "id": "7b7a3d35-f628-4310-a8db-24dc3a35dc90",
   "metadata": {},
   "outputs": [],
   "source": [
    "df[(df['degrees_awarded.predominant'] == 3) & (df['ownership'] == 3)].to_csv(\"forprofit_4yr_colleges.csv\", index=False) # for profit 4-yr colleges\n",
    "df[(df['degrees_awarded.predominant'] == 3) & (df['ownership'] != 3) & (df['size'] < 500)].to_csv(\"small_4yr_colleges.csv\", index=False) # small non-profit 4-yr\n",
    "\n",
    "df[(df['degrees_awarded.predominant'] == 3) & (df['ownership'] != 3) & (df['size'] >= 500)].to_csv(\"reportcard.csv\", index=False) # Predominantly bachelor's-degree granting\n",
    "df[df['degrees_awarded.predominant'] == 2].to_csv(\"reportcard_cc.csv\", index=False) # Predominantly associate's-degree granting"
   ]
  },
  {
   "cell_type": "code",
   "execution_count": 38,
   "id": "e17f0a50-158e-490f-96b7-1b4032c5a729",
   "metadata": {},
   "outputs": [],
   "source": [
    "df[(df['degrees_awarded.predominant'] == 3) & (df['ownership'] != 3) & (df['size'] >= 500)].to_csv(\"reportcard.csv\", index=False)"
   ]
  },
  {
   "cell_type": "code",
   "execution_count": 51,
   "id": "56bee16f-2f5c-45b1-b0f5-c3bd8711307d",
   "metadata": {},
   "outputs": [
    {
     "data": {
      "text/plain": [
       "(3027, 2554)"
      ]
     },
     "execution_count": 51,
     "metadata": {},
     "output_type": "execute_result"
    }
   ],
   "source": [
    "df.shape"
   ]
  },
  {
   "cell_type": "markdown",
   "id": "98a93767-f0ec-40c0-b830-eeeeccfb10d5",
   "metadata": {},
   "source": [
    "### Merge"
   ]
  },
  {
   "cell_type": "code",
   "execution_count": 43,
   "id": "c077e03d-028b-41ae-b8ff-d23c8a61ffd5",
   "metadata": {},
   "outputs": [],
   "source": [
    "l = list(major['cip.title'].unique())\n",
    "l.insert(0,'---')"
   ]
  },
  {
   "cell_type": "code",
   "execution_count": 53,
   "id": "074c36b4-1c28-478b-b36d-7beadd7b8ba3",
   "metadata": {},
   "outputs": [
    {
     "data": {
      "text/plain": [
       "(47847, 117)"
      ]
     },
     "execution_count": 53,
     "metadata": {},
     "output_type": "execute_result"
    }
   ],
   "source": [
    "major.shape"
   ]
  },
  {
   "cell_type": "code",
   "execution_count": 55,
   "id": "ba36c3af-faeb-486a-8029-3d3b1da7da7c",
   "metadata": {},
   "outputs": [
    {
     "data": {
      "text/plain": [
       "(299, 2671)"
      ]
     },
     "execution_count": 55,
     "metadata": {},
     "output_type": "execute_result"
    }
   ],
   "source": [
    "df.merge(major[major['cip.title']=='Computer Science.'], left_on='id', right_on='cip.unit_id').shape"
   ]
  },
  {
   "cell_type": "markdown",
   "id": "4200d599-0363-4a6a-b10c-7e04f30ce2b0",
   "metadata": {},
   "source": [
    "## Graph"
   ]
  },
  {
   "cell_type": "code",
   "execution_count": null,
   "id": "294c714f-37ca-4958-b22e-0a33b6bb0c7e",
   "metadata": {},
   "outputs": [],
   "source": [
    "import seaborn as sns\n",
    "\n",
    "d1 = df[['CCBASIC','CCSIZSET']]\n",
    "for i, column in enumerate(d1.columns[:]):\n",
    "    sns.displot(d1[column], label=column)\n",
    "\n",
    "# Add a legend and show the plot\n",
    "plt.legend()\n",
    "plt.show()"
   ]
  },
  {
   "cell_type": "markdown",
   "id": "f23d293e-685a-4af4-87f5-e57d4db27bd8",
   "metadata": {
    "tags": []
   },
   "source": [
    "## More Processing"
   ]
  },
  {
   "cell_type": "markdown",
   "id": "exempt-williams",
   "metadata": {},
   "source": [
    "no admission rate, or the rate is obviously wrong < 2%\n",
    "```\n",
    "c = df['ADM_RATE'].isnull() | df['ADM_RATE'].le(0.02, fill_value=1.0) \n",
    "df = df[~c] # exclude colleges that doon't provide admin rate\n",
    "```\n",
    "fields with their \"Null count\"\n",
    "```\n",
    "df.isnull().sum().to_csv(\"null_fields.csv\")\n",
    "```"
   ]
  },
  {
   "cell_type": "code",
   "execution_count": null,
   "id": "proprietary-import",
   "metadata": {},
   "outputs": [],
   "source": [
    "# regionMap = {0:\"U.S. Service Schools\",1:\"New Englend\",2:\"Mid East\",3:\"Great Lakes\",4:\"Plains\",5:\"Southeast\",6:\"Southwest\",7:\"Rocky Mountains\",8:\"Far West\",9:\"Outlying\"}\n",
    "# df['REGION'] = df['REGION'].map(regionMap)"
   ]
  },
  {
   "cell_type": "code",
   "execution_count": null,
   "id": "multiple-water",
   "metadata": {},
   "outputs": [],
   "source": [
    "selected = ['OPEID6','INSTNM','UGDS','INSTURL','LATITUDE','LONGITUDE','CITY','STABBR','ZIP','PREDDEG','REGION','ADM_RATE','MN_EARN_WNE_P10','MD_EARN_WNE_P10',\n",
    "            'PCT90_EARN_WNE_P6','PCT90_EARN_WNE_P10','PCT25_EARN_WNE_P6','PCT25_EARN_WNE_P10',\n",
    "            'NPT45_PRIV','NPT45_PUB','NPT43_PRIV','NPT43_PUB','NPT41_PRIV','NPT41_PUB','NPT4_PUB','NPT4_PRIV',\n",
    "            'FAMINC','MD_FAMINC','RPY_3YR_RT_SUPP','PELL_RPY_3YR_RT_SUPP','CDR3',\n",
    "            'PCIP11','PCIP15','PCIP27','PCIP40','PCT_WHITE','PCT_BLACK','PCT_HISPANIC','PCT_ASIAN',\n",
    "            'UGDS_WHITE','UGDS_ASIAN','UGDS_BLACK','UGDS_HISP','C150_4_BLACK','C150_4_HISP','C150_4_ASIAN','C150_4_WHITE',\n",
    "            'Tech Degrees','Business Degree','Biology Degree','STEM Degrees']"
   ]
  },
  {
   "cell_type": "code",
   "execution_count": null,
   "id": "radical-assets",
   "metadata": {},
   "outputs": [],
   "source": [
    "display = {'INSTNM':'College','UGDS':'Undergraduate Enrollment','PREDDEG':'Predominant degree','ADM_RATE':'Admission rate',\n",
    "           'MN_EARN_WNE_P10':'Mean Earnings 10Yr','MD_EARN_WNE_P10':'Median Earnings 10Yr',\n",
    "            'PCT90_EARN_WNE_P6':'90% earnings 6Yr','PCT90_EARN_WNE_P10':'90% earnings 10Yr','PCT25_EARN_WNE_P6':'25% earnings 6Yr',\n",
    "            'PCT25_EARN_WNE_P10':'25% earnings 10Yr','NPT45_PRIV':'Net Price 110k family (Private)','NPT45_PUB':'Net Price 110k family (Public)',\n",
    "            'NPT43_PRIV':'Net Price 48-75k family (Private)','NPT43_PUB':'Net Price 48-75k family (Public)',\n",
    "            'NPT41_PRIV':'Net Price 0-30k family (Private)','NPT41_PUB':'Net Price 0-30k family (Public)',\n",
    "            'NPT4_PUB':'Net Price All Income (Public)','NPT4_PRIV':'Net Price All Income (Private)',\n",
    "            'FAMINC':'Avg Family Income','MD_FAMINC':'Median Family Income','RPY_3YR_RT_SUPP':'3Yr Repayment Rate',\n",
    "            'PELL_RPY_3YR_RT_SUPP':'3Yr Repayment Rate (Pell Students)','CDR3':'3Yr Default Rate',\n",
    "            'PCIP11':'% CS/IT','PCIP14':'% Engineering','PCIP15':'% Engineering Related','PCIP27':'% Math/Stats','PCIP40':'% Physical Science',\n",
    "            'PCT_WHITE':'% students neighbors Whites','PCT_BLACK':'% students neighbors Blacks','PCT_HISPANIC':'% students neighbors Hispanic',\n",
    "            'PCT_ASIAN':'% students neighbors Asians','UGDS_WHITE':'% undergrades Whites','UGDS_ASIAN':'% undergrades Asians',\n",
    "            'UGDS_BLACK':'% undergrades Blacks','UGDS_HISP':'% undergrades Hispanic','C150_4_BLACK':'6Yr Completion % Blacks',\n",
    "            'C150_4_HISP':'6Yr Completion % Hispanics','C150_4_ASIAN':'6Yr Completion % Asians','C150_4_WHITE':'6Yr Completion % Whites'}"
   ]
  },
  {
   "cell_type": "code",
   "execution_count": null,
   "id": "affiliated-property",
   "metadata": {},
   "outputs": [],
   "source": [
    "s1 = df[selected].isnull().sum()\n",
    "s2 = df[selected].dtypes\n",
    "s3 = s2.index.to_series().map(code2name)\n",
    "s1.name = \"nullcount\"\n",
    "s2.name = \"dtypes\"\n",
    "s3.name = \"desc\"\n",
    "info = pd.concat([s1, s2, s3], axis=1)\n",
    "info\n",
    "#info.to_csv(\"lookup.csv\")"
   ]
  },
  {
   "cell_type": "code",
   "execution_count": null,
   "id": "adjusted-fleet",
   "metadata": {},
   "outputs": [],
   "source": [
    "out = df[selected].copy()\n",
    "out.set_index('OPEID6', inplace=True)\n",
    "out.rename(columns=display, inplace=True)"
   ]
  },
  {
   "cell_type": "code",
   "execution_count": null,
   "id": "early-northwest",
   "metadata": {},
   "outputs": [],
   "source": [
    "out['Net Price (All Income)'] = out['Net Price All Income (Public)'].fillna(0) + out['Net Price All Income (Private)'].fillna(0)\n",
    "out['Net Price 0-30k'] = out['Net Price 0-30k family (Public)'].fillna(0) + out['Net Price 0-30k family (Private)'].fillna(0)\n",
    "out['Net Price 110K+'] = out['Net Price 110k family (Public)'].fillna(0) + out['Net Price 110k family (Private)'].fillna(0)"
   ]
  },
  {
   "cell_type": "code",
   "execution_count": null,
   "id": "bulgarian-gasoline",
   "metadata": {},
   "outputs": [],
   "source": [
    "df.dropna(df['LONGITUDE'].isnull() | df['LATITUDE'].isnull()]"
   ]
  },
  {
   "cell_type": "code",
   "execution_count": null,
   "id": "strategic-consortium",
   "metadata": {},
   "outputs": [],
   "source": [
    "mrc_display = {'tier_name':'Tier Name', 'female':'% Female','k_married':'% Married','mr_kq5_pq1':'Mobility rate (80%->20%)',\n",
    "               'mr_ktop1_pq1':'Upper-tail mobility rate (80%->1%)','par_mean':'Mean parental income','par_median':'Median parent household income',\n",
    "               'par_rank':'Mean parental income rank','k_rank':'Mean kid earnings rank','k_mean':'Mean kid earnings',\n",
    "               'k_median':'Median child individual earnings'}"
   ]
  },
  {
   "cell_type": "code",
   "execution_count": null,
   "id": "changed-shannon",
   "metadata": {},
   "outputs": [],
   "source": [
    "mrc = pd.read_csv(\"mrc_table2.csv\")\n",
    "mrc.rename(columns={'super_opeid':'OPEID6'}, inplace=True)\n",
    "mrc.set_index('OPEID6', inplace=True)\n",
    "mrc.rename(columns=mrc_display, inplace=True)"
   ]
  },
  {
   "cell_type": "code",
   "execution_count": null,
   "id": "advanced-platform",
   "metadata": {},
   "outputs": [],
   "source": [
    "out.join(mrc, how='inner').to_csv(\"reportcard.csv\")"
   ]
  },
  {
   "cell_type": "code",
   "execution_count": null,
   "id": "generic-rough",
   "metadata": {},
   "outputs": [],
   "source": []
  }
 ],
 "metadata": {
  "kernelspec": {
   "display_name": "Python 3 (ipykernel)",
   "language": "python",
   "name": "python3"
  },
  "language_info": {
   "codemirror_mode": {
    "name": "ipython",
    "version": 3
   },
   "file_extension": ".py",
   "mimetype": "text/x-python",
   "name": "python",
   "nbconvert_exporter": "python",
   "pygments_lexer": "ipython3",
   "version": "3.10.9"
  }
 },
 "nbformat": 4,
 "nbformat_minor": 5
}
