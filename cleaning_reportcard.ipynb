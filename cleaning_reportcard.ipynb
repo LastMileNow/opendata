{
 "cells": [
  {
   "cell_type": "code",
   "execution_count": 1,
   "id": "virgin-print",
   "metadata": {},
   "outputs": [],
   "source": [
    "import matplotlib.pyplot as plt\n",
    "import numpy as np\n",
    "import pandas as pd\n",
    "pd.set_option('display.max_colwidth', 200)\n",
    "\n",
    "def toFloat(df,cols):\n",
    "    for col in cols:\n",
    "        df[col] = pd.to_numeric(df[col],errors='coerce')\n",
    "\n",
    "def toInt(df,cols):\n",
    "    for col in cols:\n",
    "        df[col] = pd.to_numeric(df[col],errors='coerce')\n",
    "        df[col] = df[col].fillna(0).astype(np.int64)"
   ]
  },
  {
   "cell_type": "code",
   "execution_count": 2,
   "id": "ffebd6e5-bc2e-48c2-8ea4-db31ffb0c887",
   "metadata": {},
   "outputs": [
    {
     "data": {
      "text/plain": [
       "(233979, 160)"
      ]
     },
     "execution_count": 2,
     "metadata": {},
     "output_type": "execute_result"
    }
   ],
   "source": [
    "major = pd.read_csv(\"Most-Recent-Cohorts-Field-of-Study.csv\")\n",
    "major.shape"
   ]
  },
  {
   "cell_type": "code",
   "execution_count": 3,
   "id": "7afabb67-e708-466d-9593-6aaa20f33fcc",
   "metadata": {},
   "outputs": [],
   "source": [
    "major.replace('PrivacySuppressed', np.NaN, inplace=True)"
   ]
  },
  {
   "cell_type": "markdown",
   "id": "e1107a79-9c76-4731-84b2-a62bc34498d0",
   "metadata": {},
   "source": [
    "```\n",
    "major[major['CREDLEV']==3][['INSTNM','CIPDESC','EARN_NE_MDN_3YR','EARN_COUNT_NE_3YR','EARN_MDN_4YR','EARN_COUNT_WNE_4YR']].dropna(axis=0, thresh=4).to_csv(\"reportcard_major_earning.csv\", index=False)\n",
    "```\n",
    "```\n",
    "major[major['INSTNM'].str.startswith('Washington University') & major['CIPDESC'].str.startswith('Computer')].to_csv(\"washu_reportcard_major.csv\", index=False)\n",
    "```"
   ]
  },
  {
   "cell_type": "code",
   "execution_count": 4,
   "id": "0758ae90-8c23-43cb-8830-596b3bcb4b51",
   "metadata": {},
   "outputs": [
    {
     "data": {
      "text/plain": [
       "(56602, 156)"
      ]
     },
     "execution_count": 4,
     "metadata": {},
     "output_type": "execute_result"
    }
   ],
   "source": [
    "major.dropna(axis=0, thresh=30, inplace=True) # drop rows (axis=0) if less than 30 attributes have values (non-null/NaN)\n",
    "major.drop(columns=['OPEID6', 'INSTNM','CONTROL','MAIN'], inplace=True)\n",
    "major.shape"
   ]
  },
  {
   "cell_type": "code",
   "execution_count": 5,
   "id": "7b2b4b28-8a5b-4bf2-a034-5570f25021d1",
   "metadata": {},
   "outputs": [],
   "source": [
    "datadict_m = pd.read_csv(\"CollegeScorecardDataDictionary_Major.csv\")\n",
    "datadict_m.replace({'cip_4_digit':'cip'},regex=True,inplace=True)\n",
    "code2name = dict(zip(datadict_m['VARIABLE NAME'], datadict_m['developer-friendly name']))\n",
    "major.rename(columns = code2name, inplace = True)"
   ]
  },
  {
   "cell_type": "code",
   "execution_count": 6,
   "id": "2a196acd-5571-47ef-b3f4-949fae52e5b3",
   "metadata": {},
   "outputs": [
    {
     "data": {
      "text/html": [
       "<div>\n",
       "<style scoped>\n",
       "    .dataframe tbody tr th:only-of-type {\n",
       "        vertical-align: middle;\n",
       "    }\n",
       "\n",
       "    .dataframe tbody tr th {\n",
       "        vertical-align: top;\n",
       "    }\n",
       "\n",
       "    .dataframe thead th {\n",
       "        text-align: right;\n",
       "    }\n",
       "</style>\n",
       "<table border=\"1\" class=\"dataframe\">\n",
       "  <thead>\n",
       "    <tr style=\"text-align: right;\">\n",
       "      <th></th>\n",
       "      <th>cip.unit_id</th>\n",
       "      <th>cip.code</th>\n",
       "      <th>cip.title</th>\n",
       "      <th>cip.credential.level</th>\n",
       "      <th>cip.credential.title</th>\n",
       "      <th>cip.counts.ipeds_awards1</th>\n",
       "      <th>cip.counts.ipeds_awards2</th>\n",
       "      <th>cip.debt.staff_grad_plus.all.all_inst.count</th>\n",
       "      <th>cip.debt.staff_grad_plus.all.all_inst.average</th>\n",
       "      <th>cip.debt.staff_grad_plus.all.all_inst.median</th>\n",
       "      <th>...</th>\n",
       "      <th>cip.repayment.4_yr_bb_fed_comp.count</th>\n",
       "      <th>cip.repayment.4_yr_bb_fed_comp.default</th>\n",
       "      <th>cip.repayment.4_yr_bb_fed_comp.delinquent</th>\n",
       "      <th>cip.repayment.4_yr_bb_fed_comp.forbearance</th>\n",
       "      <th>cip.repayment.4_yr_bb_fed_comp.deferment</th>\n",
       "      <th>cip.repayment.4_yr_bb_fed_comp.noprogress</th>\n",
       "      <th>cip.repayment.4_yr_bb_fed_comp.makingprogress</th>\n",
       "      <th>cip.repayment.4_yr_bb_fed_comp.fullypaid</th>\n",
       "      <th>cip.repayment.4_yr_bb_fed_comp.discharge</th>\n",
       "      <th>cip.distance</th>\n",
       "    </tr>\n",
       "  </thead>\n",
       "  <tbody>\n",
       "    <tr>\n",
       "      <th>15</th>\n",
       "      <td>100654.0</td>\n",
       "      <td>1002</td>\n",
       "      <td>Audiovisual Communications Technologies/Technicians.</td>\n",
       "      <td>3</td>\n",
       "      <td>Bachelor's Degree</td>\n",
       "      <td>35.0</td>\n",
       "      <td>23.0</td>\n",
       "      <td>45</td>\n",
       "      <td>NaN</td>\n",
       "      <td>36250</td>\n",
       "      <td>...</td>\n",
       "      <td>16</td>\n",
       "      <td>NaN</td>\n",
       "      <td>NaN</td>\n",
       "      <td>NaN</td>\n",
       "      <td>NaN</td>\n",
       "      <td>NaN</td>\n",
       "      <td>NaN</td>\n",
       "      <td>NaN</td>\n",
       "      <td>NaN</td>\n",
       "      <td>1</td>\n",
       "    </tr>\n",
       "    <tr>\n",
       "      <th>16</th>\n",
       "      <td>100654.0</td>\n",
       "      <td>1101</td>\n",
       "      <td>Computer and Information Sciences, General.</td>\n",
       "      <td>3</td>\n",
       "      <td>Bachelor's Degree</td>\n",
       "      <td>31.0</td>\n",
       "      <td>20.0</td>\n",
       "      <td>41</td>\n",
       "      <td>NaN</td>\n",
       "      <td>31000</td>\n",
       "      <td>...</td>\n",
       "      <td>29</td>\n",
       "      <td>NaN</td>\n",
       "      <td>NaN</td>\n",
       "      <td>NaN</td>\n",
       "      <td>NaN</td>\n",
       "      <td>NaN</td>\n",
       "      <td>NaN</td>\n",
       "      <td>NaN</td>\n",
       "      <td>NaN</td>\n",
       "      <td>1</td>\n",
       "    </tr>\n",
       "    <tr>\n",
       "      <th>24</th>\n",
       "      <td>100654.0</td>\n",
       "      <td>1312</td>\n",
       "      <td>Teacher Education and Professional Development, Specific Levels and Methods.</td>\n",
       "      <td>5</td>\n",
       "      <td>Master's Degree</td>\n",
       "      <td>19.0</td>\n",
       "      <td>13.0</td>\n",
       "      <td>NaN</td>\n",
       "      <td>NaN</td>\n",
       "      <td>NaN</td>\n",
       "      <td>...</td>\n",
       "      <td>33</td>\n",
       "      <td>NaN</td>\n",
       "      <td>NaN</td>\n",
       "      <td>0.60 - 0.79</td>\n",
       "      <td>NaN</td>\n",
       "      <td>NaN</td>\n",
       "      <td>NaN</td>\n",
       "      <td>NaN</td>\n",
       "      <td>NaN</td>\n",
       "      <td>2</td>\n",
       "    </tr>\n",
       "    <tr>\n",
       "      <th>25</th>\n",
       "      <td>100654.0</td>\n",
       "      <td>1313</td>\n",
       "      <td>Teacher Education and Professional Development, Specific Subject Areas.</td>\n",
       "      <td>3</td>\n",
       "      <td>Bachelor's Degree</td>\n",
       "      <td>2.0</td>\n",
       "      <td>0.0</td>\n",
       "      <td>NaN</td>\n",
       "      <td>NaN</td>\n",
       "      <td>NaN</td>\n",
       "      <td>...</td>\n",
       "      <td>38</td>\n",
       "      <td>NaN</td>\n",
       "      <td>NaN</td>\n",
       "      <td>0.60 - 0.79</td>\n",
       "      <td>NaN</td>\n",
       "      <td>NaN</td>\n",
       "      <td>NaN</td>\n",
       "      <td>NaN</td>\n",
       "      <td>NaN</td>\n",
       "      <td>1</td>\n",
       "    </tr>\n",
       "    <tr>\n",
       "      <th>29</th>\n",
       "      <td>100654.0</td>\n",
       "      <td>1410</td>\n",
       "      <td>Electrical, Electronics and Communications Engineering.</td>\n",
       "      <td>3</td>\n",
       "      <td>Bachelor's Degree</td>\n",
       "      <td>34.0</td>\n",
       "      <td>33.0</td>\n",
       "      <td>50</td>\n",
       "      <td>NaN</td>\n",
       "      <td>35000</td>\n",
       "      <td>...</td>\n",
       "      <td>22</td>\n",
       "      <td>NaN</td>\n",
       "      <td>NaN</td>\n",
       "      <td>NaN</td>\n",
       "      <td>NaN</td>\n",
       "      <td>NaN</td>\n",
       "      <td>NaN</td>\n",
       "      <td>NaN</td>\n",
       "      <td>NaN</td>\n",
       "      <td>1</td>\n",
       "    </tr>\n",
       "  </tbody>\n",
       "</table>\n",
       "<p>5 rows × 156 columns</p>\n",
       "</div>"
      ],
      "text/plain": [
       "    cip.unit_id  cip.code  \\\n",
       "15     100654.0      1002   \n",
       "16     100654.0      1101   \n",
       "24     100654.0      1312   \n",
       "25     100654.0      1313   \n",
       "29     100654.0      1410   \n",
       "\n",
       "                                                                       cip.title  \\\n",
       "15                          Audiovisual Communications Technologies/Technicians.   \n",
       "16                                   Computer and Information Sciences, General.   \n",
       "24  Teacher Education and Professional Development, Specific Levels and Methods.   \n",
       "25       Teacher Education and Professional Development, Specific Subject Areas.   \n",
       "29                       Electrical, Electronics and Communications Engineering.   \n",
       "\n",
       "    cip.credential.level cip.credential.title  cip.counts.ipeds_awards1  \\\n",
       "15                     3    Bachelor's Degree                      35.0   \n",
       "16                     3    Bachelor's Degree                      31.0   \n",
       "24                     5      Master's Degree                      19.0   \n",
       "25                     3    Bachelor's Degree                       2.0   \n",
       "29                     3    Bachelor's Degree                      34.0   \n",
       "\n",
       "    cip.counts.ipeds_awards2 cip.debt.staff_grad_plus.all.all_inst.count  \\\n",
       "15                      23.0                                          45   \n",
       "16                      20.0                                          41   \n",
       "24                      13.0                                         NaN   \n",
       "25                       0.0                                         NaN   \n",
       "29                      33.0                                          50   \n",
       "\n",
       "   cip.debt.staff_grad_plus.all.all_inst.average  \\\n",
       "15                                           NaN   \n",
       "16                                           NaN   \n",
       "24                                           NaN   \n",
       "25                                           NaN   \n",
       "29                                           NaN   \n",
       "\n",
       "   cip.debt.staff_grad_plus.all.all_inst.median  ...  \\\n",
       "15                                        36250  ...   \n",
       "16                                        31000  ...   \n",
       "24                                          NaN  ...   \n",
       "25                                          NaN  ...   \n",
       "29                                        35000  ...   \n",
       "\n",
       "   cip.repayment.4_yr_bb_fed_comp.count  \\\n",
       "15                                   16   \n",
       "16                                   29   \n",
       "24                                   33   \n",
       "25                                   38   \n",
       "29                                   22   \n",
       "\n",
       "   cip.repayment.4_yr_bb_fed_comp.default  \\\n",
       "15                                    NaN   \n",
       "16                                    NaN   \n",
       "24                                    NaN   \n",
       "25                                    NaN   \n",
       "29                                    NaN   \n",
       "\n",
       "   cip.repayment.4_yr_bb_fed_comp.delinquent  \\\n",
       "15                                       NaN   \n",
       "16                                       NaN   \n",
       "24                                       NaN   \n",
       "25                                       NaN   \n",
       "29                                       NaN   \n",
       "\n",
       "   cip.repayment.4_yr_bb_fed_comp.forbearance  \\\n",
       "15                                        NaN   \n",
       "16                                        NaN   \n",
       "24                                0.60 - 0.79   \n",
       "25                                0.60 - 0.79   \n",
       "29                                        NaN   \n",
       "\n",
       "   cip.repayment.4_yr_bb_fed_comp.deferment  \\\n",
       "15                                      NaN   \n",
       "16                                      NaN   \n",
       "24                                      NaN   \n",
       "25                                      NaN   \n",
       "29                                      NaN   \n",
       "\n",
       "   cip.repayment.4_yr_bb_fed_comp.noprogress  \\\n",
       "15                                       NaN   \n",
       "16                                       NaN   \n",
       "24                                       NaN   \n",
       "25                                       NaN   \n",
       "29                                       NaN   \n",
       "\n",
       "   cip.repayment.4_yr_bb_fed_comp.makingprogress  \\\n",
       "15                                           NaN   \n",
       "16                                           NaN   \n",
       "24                                           NaN   \n",
       "25                                           NaN   \n",
       "29                                           NaN   \n",
       "\n",
       "   cip.repayment.4_yr_bb_fed_comp.fullypaid  \\\n",
       "15                                      NaN   \n",
       "16                                      NaN   \n",
       "24                                      NaN   \n",
       "25                                      NaN   \n",
       "29                                      NaN   \n",
       "\n",
       "   cip.repayment.4_yr_bb_fed_comp.discharge cip.distance  \n",
       "15                                      NaN            1  \n",
       "16                                      NaN            1  \n",
       "24                                      NaN            2  \n",
       "25                                      NaN            1  \n",
       "29                                      NaN            1  \n",
       "\n",
       "[5 rows x 156 columns]"
      ]
     },
     "execution_count": 6,
     "metadata": {},
     "output_type": "execute_result"
    }
   ],
   "source": [
    "major.head()"
   ]
  },
  {
   "cell_type": "code",
   "execution_count": 7,
   "id": "a2b89a91-9d19-45a8-8ad5-4c052bca4b99",
   "metadata": {},
   "outputs": [],
   "source": [
    "toInt(major,[v for v in list(major.columns) if \"count\" in v]) # some 'count' columns are not integer"
   ]
  },
  {
   "cell_type": "code",
   "execution_count": 46,
   "id": "08278848-db76-455f-a18a-655e474fc1d8",
   "metadata": {},
   "outputs": [],
   "source": [
    "major.to_csv(\"reportcard_major.csv\", index=False)"
   ]
  },
  {
   "cell_type": "markdown",
   "id": "cee28c32-326b-4d85-8371-4a8aba03c5e5",
   "metadata": {
    "tags": []
   },
   "source": [
    "## Reportcard.csv"
   ]
  },
  {
   "cell_type": "code",
   "execution_count": 8,
   "id": "b757d7d8-7313-49d8-a8d4-c647c3a0a699",
   "metadata": {},
   "outputs": [
    {
     "name": "stderr",
     "output_type": "stream",
     "text": [
      "/tmp/ipykernel_11164/4140189609.py:1: DtypeWarning: Columns (9,1537,1540,1542,1606,1608,1614,1615,1619,1620,1621,1622,1623,1624,1625,1626,1627,1628,1629,1703,1704,1725,1726,1727,1728,1729,1743,1815,1816,1817,1818,1823,1824,1830,1831,1879,1880,1881,1882,1883,1884,1885,1886,1887,1888,1889,1890,1891,1892,1893,1894,1895,1896,1897,1898,1909,1910,1911,1912,1913,1957,1958,1959,1960,1961,1962,1963,1964,1965,1966,1967,1968,1969,1970,1971,1972,1973,1974,1975,1976,1983,1984,2376,2377,2403,2404,2495,2496,2497,2498,2499,2500,2501,2502,2503,2504,2505,2506,2507,2508,2509,2510,2511,2512,2513,2514,2515,2516,2517,2518,2519,2520,2521,2522,2523,2524,2525,2526,2527,2528,2529,2530,2958,3215,3231) have mixed types. Specify dtype option on import or set low_memory=False.\n",
      "  df = pd.read_csv(\"Most-Recent-Cohorts-Institution.csv\")\n"
     ]
    },
    {
     "data": {
      "text/plain": [
       "(6543, 3232)"
      ]
     },
     "execution_count": 8,
     "metadata": {},
     "output_type": "execute_result"
    }
   ],
   "source": [
    "df = pd.read_csv(\"Most-Recent-Cohorts-Institution.csv\")\n",
    "df.shape"
   ]
  },
  {
   "cell_type": "code",
   "execution_count": 9,
   "id": "a9bc6d01-9dc6-4831-8992-480604cb65ae",
   "metadata": {},
   "outputs": [
    {
     "data": {
      "text/plain": [
       "(6357, 3236)"
      ]
     },
     "execution_count": 9,
     "metadata": {},
     "output_type": "execute_result"
    }
   ],
   "source": [
    "### Adding %Tech %Busines\n",
    "df[\"prc_tech\"] = (df['PCIP11'] + df['PCIP14'] + df['PCIP15'] + df['PCIP27'] + df['PCIP40'] + df['PCIP41'])\n",
    "df[\"prc_business\"] = df['PCIP52']\n",
    "df[\"prc_biology\"] = df['PCIP26']\n",
    "df[\"prc_stem\"] = df[\"prc_tech\"] + df[\"prc_business\"] + df[\"prc_biology\"]\n",
    "\n",
    "df.dropna(axis=0, thresh=1500, inplace=True) # drop rows (axis=0) if less than 1500 attributes have values (non-null/NaN)\n",
    "df.shape"
   ]
  },
  {
   "cell_type": "code",
   "execution_count": 10,
   "id": "e75593c3-a748-4f0a-81ff-4912e35551d5",
   "metadata": {},
   "outputs": [
    {
     "name": "stderr",
     "output_type": "stream",
     "text": [
      "/tmp/ipykernel_11164/3490906837.py:2: FutureWarning: Downcasting behavior in `replace` is deprecated and will be removed in a future version. To retain the old behavior, explicitly call `result.infer_objects(copy=False)`. To opt-in to the future behavior, set `pd.set_option('future.no_silent_downcasting', True)`\n",
      "  df.replace('PrivacySuppressed', np.NaN, inplace=True)\n"
     ]
    },
    {
     "data": {
      "text/plain": [
       "(6357, 2774)"
      ]
     },
     "execution_count": 10,
     "metadata": {},
     "output_type": "execute_result"
    }
   ],
   "source": [
    "df.shape\n",
    "df.replace('PrivacySuppressed', np.NaN, inplace=True)\n",
    "df.dropna(axis=1, thresh=500, inplace=True) # drop columns (axis=1) if less than 500 entries have values (non-null/NaN)\n",
    "df.shape"
   ]
  },
  {
   "cell_type": "code",
   "execution_count": 11,
   "id": "f8a3c86d-1af4-4a66-934c-5355fa030fd2",
   "metadata": {},
   "outputs": [
    {
     "name": "stdout",
     "output_type": "stream",
     "text": [
      "(2996, 2774)\n"
     ]
    }
   ],
   "source": [
    "df = df[(df['CCBASIC'] > 0) & (df['CCSIZSET'] > 2)].copy() # Carnegie Classification for 2 & 4 year college only\n",
    "print(df.shape)"
   ]
  },
  {
   "cell_type": "code",
   "execution_count": 12,
   "id": "involved-convention",
   "metadata": {},
   "outputs": [],
   "source": [
    "toInt(df,['UGDS','FAMINC','MD_FAMINC','MD_EARN_WNE_P10','PCT25_EARN_WNE_P6','PCT25_EARN_WNE_P10','RPY_3YR_RT_SUPP',\n",
    "    'PELL_RPY_3YR_RT_SUPP','MN_EARN_WNE_P10', 'PCT90_EARN_WNE_P6','PCT90_EARN_WNE_P10'])"
   ]
  },
  {
   "cell_type": "code",
   "execution_count": 13,
   "id": "mexican-platform",
   "metadata": {},
   "outputs": [],
   "source": [
    "toFloat(df,['FAMINC','MD_FAMINC','MD_EARN_WNE_P10','PCT25_EARN_WNE_P6','PCT25_EARN_WNE_P10','RPY_3YR_RT_SUPP','PELL_RPY_3YR_RT_SUPP',\n",
    "            'PCT_BLACK','PCT_WHITE','PCT_HISPANIC','PCT_ASIAN','MN_EARN_WNE_P10','PCT90_EARN_WNE_P6','PCT90_EARN_WNE_P10'])"
   ]
  },
  {
   "cell_type": "code",
   "execution_count": 14,
   "id": "0fa8dc52-5771-4b78-8fe7-4698d66a3b62",
   "metadata": {},
   "outputs": [],
   "source": [
    "datadict = pd.read_csv(\"CollegeScorecardDataDictionary.csv\")\n",
    "datadict.replace({'by_income_level':'income', '.working_not_enrolled':'','outcome_percentage':'perc'},regex=True,inplace=True)\n",
    "code2name = dict(zip(datadict['VARIABLE NAME'], datadict['developer-friendly name']))\n",
    "df.rename(columns = code2name, inplace = True)\n",
    "df.rename(columns = {'location.lon':'lon', 'location.lat':'lat'}, inplace = True)\n",
    "regionMap = {0:\"U.S. Service Schools\",1:\"New Englend\",2:\"Mid East\",3:\"Great Lakes\",4:\"Plains\",5:\"Southeast\",6:\"Southwest\",7:\"Rocky Mountains\",8:\"Far West\",9:\"Outlying\"}\n",
    "df['region_id'] = df['region_id'].map(regionMap)\n",
    "localeMap = {11:'Large City',12:'Midsize City',13:'Small City',21:'Large Suburb',22:'Midsize Suburb',23:'Small Suburb',\n",
    "        31:'Fringe Town',32:'Distant Town',33:'Remote Town',41:'Fringe Rural',42:'Distant Rural',43:'Remote Rural'}\n",
    "df['locale'] = df['locale'].map(localeMap)\n",
    "df['net_price.income.110001-plus']=df[['net_price.public.income.110001-plus','net_price.private.income.110001-plus']].max(axis=1)\n"
   ]
  },
  {
   "cell_type": "markdown",
   "id": "5a5343df-7f3a-4ec8-997f-c6b8a2691f6d",
   "metadata": {},
   "source": [
    "```df[(df['degrees_awarded.predominant'] == 3) & (df['ownership'] == 3)].to_csv(\"forprofit_4yr_colleges.csv\", index=False) # for profit 4-yr colleges\n",
    "df[(df['degrees_awarded.predominant'] == 3) & (df['ownership'] != 3) & (df['size'] < 500)].to_csv(\"small_4yr_colleges.csv\", index=False) # small non-profit 4-yr\n",
    "\n",
    "df[(df['degrees_awarded.predominant'] == 3) & (df['ownership'] != 3) & (df['size'] >= 500)].to_csv(\"reportcard.csv\", index=False) # Predominantly bachelor's-degree granting\n",
    "df[df['degrees_awarded.predominant'] == 2].to_csv(\"reportcard_cc.csv\", index=False) # Predominantly associate's-degree granting```"
   ]
  },
  {
   "cell_type": "code",
   "execution_count": 16,
   "id": "e17f0a50-158e-490f-96b7-1b4032c5a729",
   "metadata": {},
   "outputs": [],
   "source": [
    "df[(df['degrees_awarded.predominant'] == 3) & (df['ownership'] != 3) & (df['size'] >= 500)].to_csv(\"reportcard.csv\", index=False)"
   ]
  },
  {
   "cell_type": "code",
   "execution_count": 17,
   "id": "56bee16f-2f5c-45b1-b0f5-c3bd8711307d",
   "metadata": {},
   "outputs": [
    {
     "data": {
      "text/plain": [
       "(2996, 2775)"
      ]
     },
     "execution_count": 17,
     "metadata": {},
     "output_type": "execute_result"
    }
   ],
   "source": [
    "df.shape"
   ]
  },
  {
   "cell_type": "code",
   "execution_count": 30,
   "id": "3212f04e-9382-47bd-840f-c6768563de9a",
   "metadata": {},
   "outputs": [],
   "source": [
    "mDict = pd.concat([datadict_m[['NAME OF DATA ELEMENT','developer-friendly name']],\n",
    "           datadict[['NAME OF DATA ELEMENT','developer-friendly name']]])\\\n",
    "        .rename(columns = {\"NAME OF DATA ELEMENT\":\"Description\",\"developer-friendly name\":\"Name\"})\n",
    "        "
   ]
  },
  {
   "cell_type": "code",
   "execution_count": 39,
   "id": "39b23488-51a1-4eee-922c-527d54c35c72",
   "metadata": {},
   "outputs": [],
   "source": [
    "mDict[mDict['Name'].notnull()].to_csv(\"dict.csv\", index=False)"
   ]
  },
  {
   "cell_type": "markdown",
   "id": "98a93767-f0ec-40c0-b830-eeeeccfb10d5",
   "metadata": {},
   "source": [
    "### Merge"
   ]
  },
  {
   "cell_type": "code",
   "execution_count": 43,
   "id": "c077e03d-028b-41ae-b8ff-d23c8a61ffd5",
   "metadata": {},
   "outputs": [],
   "source": [
    "l = list(major['cip.title'].unique())\n",
    "l.insert(0,'---')"
   ]
  },
  {
   "cell_type": "code",
   "execution_count": 53,
   "id": "074c36b4-1c28-478b-b36d-7beadd7b8ba3",
   "metadata": {},
   "outputs": [
    {
     "data": {
      "text/plain": [
       "(47847, 117)"
      ]
     },
     "execution_count": 53,
     "metadata": {},
     "output_type": "execute_result"
    }
   ],
   "source": [
    "major.shape"
   ]
  },
  {
   "cell_type": "code",
   "execution_count": 55,
   "id": "ba36c3af-faeb-486a-8029-3d3b1da7da7c",
   "metadata": {},
   "outputs": [
    {
     "data": {
      "text/plain": [
       "(299, 2671)"
      ]
     },
     "execution_count": 55,
     "metadata": {},
     "output_type": "execute_result"
    }
   ],
   "source": [
    "df.merge(major[major['cip.title']=='Computer Science.'], left_on='id', right_on='cip.unit_id').shape"
   ]
  },
  {
   "cell_type": "markdown",
   "id": "4200d599-0363-4a6a-b10c-7e04f30ce2b0",
   "metadata": {},
   "source": [
    "## Graph"
   ]
  },
  {
   "cell_type": "code",
   "execution_count": null,
   "id": "294c714f-37ca-4958-b22e-0a33b6bb0c7e",
   "metadata": {},
   "outputs": [],
   "source": [
    "import seaborn as sns\n",
    "\n",
    "d1 = df[['CCBASIC','CCSIZSET']]\n",
    "for i, column in enumerate(d1.columns[:]):\n",
    "    sns.displot(d1[column], label=column)\n",
    "\n",
    "# Add a legend and show the plot\n",
    "plt.legend()\n",
    "plt.show()"
   ]
  },
  {
   "cell_type": "markdown",
   "id": "f23d293e-685a-4af4-87f5-e57d4db27bd8",
   "metadata": {
    "tags": []
   },
   "source": [
    "## More Processing"
   ]
  },
  {
   "cell_type": "markdown",
   "id": "exempt-williams",
   "metadata": {},
   "source": [
    "no admission rate, or the rate is obviously wrong < 2%\n",
    "```\n",
    "c = df['ADM_RATE'].isnull() | df['ADM_RATE'].le(0.02, fill_value=1.0) \n",
    "df = df[~c] # exclude colleges that doon't provide admin rate\n",
    "```\n",
    "fields with their \"Null count\"\n",
    "```\n",
    "df.isnull().sum().to_csv(\"null_fields.csv\")\n",
    "```"
   ]
  },
  {
   "cell_type": "code",
   "execution_count": null,
   "id": "proprietary-import",
   "metadata": {},
   "outputs": [],
   "source": [
    "# regionMap = {0:\"U.S. Service Schools\",1:\"New Englend\",2:\"Mid East\",3:\"Great Lakes\",4:\"Plains\",5:\"Southeast\",6:\"Southwest\",7:\"Rocky Mountains\",8:\"Far West\",9:\"Outlying\"}\n",
    "# df['REGION'] = df['REGION'].map(regionMap)"
   ]
  },
  {
   "cell_type": "code",
   "execution_count": null,
   "id": "multiple-water",
   "metadata": {},
   "outputs": [],
   "source": [
    "selected = ['OPEID6','INSTNM','UGDS','INSTURL','LATITUDE','LONGITUDE','CITY','STABBR','ZIP','PREDDEG','REGION','ADM_RATE','MN_EARN_WNE_P10','MD_EARN_WNE_P10',\n",
    "            'PCT90_EARN_WNE_P6','PCT90_EARN_WNE_P10','PCT25_EARN_WNE_P6','PCT25_EARN_WNE_P10',\n",
    "            'NPT45_PRIV','NPT45_PUB','NPT43_PRIV','NPT43_PUB','NPT41_PRIV','NPT41_PUB','NPT4_PUB','NPT4_PRIV',\n",
    "            'FAMINC','MD_FAMINC','RPY_3YR_RT_SUPP','PELL_RPY_3YR_RT_SUPP','CDR3',\n",
    "            'PCIP11','PCIP15','PCIP27','PCIP40','PCT_WHITE','PCT_BLACK','PCT_HISPANIC','PCT_ASIAN',\n",
    "            'UGDS_WHITE','UGDS_ASIAN','UGDS_BLACK','UGDS_HISP','C150_4_BLACK','C150_4_HISP','C150_4_ASIAN','C150_4_WHITE',\n",
    "            'Tech Degrees','Business Degree','Biology Degree','STEM Degrees']"
   ]
  },
  {
   "cell_type": "code",
   "execution_count": null,
   "id": "radical-assets",
   "metadata": {},
   "outputs": [],
   "source": [
    "display = {'INSTNM':'College','UGDS':'Undergraduate Enrollment','PREDDEG':'Predominant degree','ADM_RATE':'Admission rate',\n",
    "           'MN_EARN_WNE_P10':'Mean Earnings 10Yr','MD_EARN_WNE_P10':'Median Earnings 10Yr',\n",
    "            'PCT90_EARN_WNE_P6':'90% earnings 6Yr','PCT90_EARN_WNE_P10':'90% earnings 10Yr','PCT25_EARN_WNE_P6':'25% earnings 6Yr',\n",
    "            'PCT25_EARN_WNE_P10':'25% earnings 10Yr','NPT45_PRIV':'Net Price 110k family (Private)','NPT45_PUB':'Net Price 110k family (Public)',\n",
    "            'NPT43_PRIV':'Net Price 48-75k family (Private)','NPT43_PUB':'Net Price 48-75k family (Public)',\n",
    "            'NPT41_PRIV':'Net Price 0-30k family (Private)','NPT41_PUB':'Net Price 0-30k family (Public)',\n",
    "            'NPT4_PUB':'Net Price All Income (Public)','NPT4_PRIV':'Net Price All Income (Private)',\n",
    "            'FAMINC':'Avg Family Income','MD_FAMINC':'Median Family Income','RPY_3YR_RT_SUPP':'3Yr Repayment Rate',\n",
    "            'PELL_RPY_3YR_RT_SUPP':'3Yr Repayment Rate (Pell Students)','CDR3':'3Yr Default Rate',\n",
    "            'PCIP11':'% CS/IT','PCIP14':'% Engineering','PCIP15':'% Engineering Related','PCIP27':'% Math/Stats','PCIP40':'% Physical Science',\n",
    "            'PCT_WHITE':'% students neighbors Whites','PCT_BLACK':'% students neighbors Blacks','PCT_HISPANIC':'% students neighbors Hispanic',\n",
    "            'PCT_ASIAN':'% students neighbors Asians','UGDS_WHITE':'% undergrades Whites','UGDS_ASIAN':'% undergrades Asians',\n",
    "            'UGDS_BLACK':'% undergrades Blacks','UGDS_HISP':'% undergrades Hispanic','C150_4_BLACK':'6Yr Completion % Blacks',\n",
    "            'C150_4_HISP':'6Yr Completion % Hispanics','C150_4_ASIAN':'6Yr Completion % Asians','C150_4_WHITE':'6Yr Completion % Whites'}"
   ]
  },
  {
   "cell_type": "code",
   "execution_count": null,
   "id": "affiliated-property",
   "metadata": {},
   "outputs": [],
   "source": [
    "s1 = df[selected].isnull().sum()\n",
    "s2 = df[selected].dtypes\n",
    "s3 = s2.index.to_series().map(code2name)\n",
    "s1.name = \"nullcount\"\n",
    "s2.name = \"dtypes\"\n",
    "s3.name = \"desc\"\n",
    "info = pd.concat([s1, s2, s3], axis=1)\n",
    "info\n",
    "#info.to_csv(\"lookup.csv\")"
   ]
  },
  {
   "cell_type": "code",
   "execution_count": null,
   "id": "adjusted-fleet",
   "metadata": {},
   "outputs": [],
   "source": [
    "out = df[selected].copy()\n",
    "out.set_index('OPEID6', inplace=True)\n",
    "out.rename(columns=display, inplace=True)"
   ]
  },
  {
   "cell_type": "code",
   "execution_count": null,
   "id": "early-northwest",
   "metadata": {},
   "outputs": [],
   "source": [
    "out['Net Price (All Income)'] = out['Net Price All Income (Public)'].fillna(0) + out['Net Price All Income (Private)'].fillna(0)\n",
    "out['Net Price 0-30k'] = out['Net Price 0-30k family (Public)'].fillna(0) + out['Net Price 0-30k family (Private)'].fillna(0)\n",
    "out['Net Price 110K+'] = out['Net Price 110k family (Public)'].fillna(0) + out['Net Price 110k family (Private)'].fillna(0)"
   ]
  },
  {
   "cell_type": "code",
   "execution_count": null,
   "id": "bulgarian-gasoline",
   "metadata": {},
   "outputs": [],
   "source": [
    "df.dropna(df['LONGITUDE'].isnull() | df['LATITUDE'].isnull()]"
   ]
  },
  {
   "cell_type": "code",
   "execution_count": null,
   "id": "strategic-consortium",
   "metadata": {},
   "outputs": [],
   "source": [
    "mrc_display = {'tier_name':'Tier Name', 'female':'% Female','k_married':'% Married','mr_kq5_pq1':'Mobility rate (80%->20%)',\n",
    "               'mr_ktop1_pq1':'Upper-tail mobility rate (80%->1%)','par_mean':'Mean parental income','par_median':'Median parent household income',\n",
    "               'par_rank':'Mean parental income rank','k_rank':'Mean kid earnings rank','k_mean':'Mean kid earnings',\n",
    "               'k_median':'Median child individual earnings'}"
   ]
  },
  {
   "cell_type": "code",
   "execution_count": null,
   "id": "changed-shannon",
   "metadata": {},
   "outputs": [],
   "source": [
    "mrc = pd.read_csv(\"mrc_table2.csv\")\n",
    "mrc.rename(columns={'super_opeid':'OPEID6'}, inplace=True)\n",
    "mrc.set_index('OPEID6', inplace=True)\n",
    "mrc.rename(columns=mrc_display, inplace=True)"
   ]
  },
  {
   "cell_type": "code",
   "execution_count": null,
   "id": "advanced-platform",
   "metadata": {},
   "outputs": [],
   "source": [
    "out.join(mrc, how='inner').to_csv(\"reportcard.csv\")"
   ]
  },
  {
   "cell_type": "code",
   "execution_count": null,
   "id": "generic-rough",
   "metadata": {},
   "outputs": [],
   "source": []
  }
 ],
 "metadata": {
  "kernelspec": {
   "display_name": "Python 3 (ipykernel)",
   "language": "python",
   "name": "python3"
  },
  "language_info": {
   "codemirror_mode": {
    "name": "ipython",
    "version": 3
   },
   "file_extension": ".py",
   "mimetype": "text/x-python",
   "name": "python",
   "nbconvert_exporter": "python",
   "pygments_lexer": "ipython3",
   "version": "3.10.6"
  }
 },
 "nbformat": 4,
 "nbformat_minor": 5
}
